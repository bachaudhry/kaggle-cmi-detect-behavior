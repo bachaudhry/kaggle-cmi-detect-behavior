{
 "cells": [
  {
   "cell_type": "code",
   "execution_count": 1,
   "id": "6fb0cfe8",
   "metadata": {},
   "outputs": [],
   "source": [
    "\"\"\"\n",
    "Final Submission Notebook for CMI Kaggle Competition.\n",
    "This notebook integrates the trained model and the finalized feature engineering\n",
    "function within the required Kaggle API loop structure.\n",
    "\"\"\"\n",
    "\n",
    "import pandas as pd\n",
    "import numpy as np\n",
    "import data.kaggle_evaluation\n",
    "import os\n",
    "import pickle\n",
    "import joblib\n",
    "import catboost as cat"
   ]
  },
  {
   "cell_type": "code",
   "execution_count": 2,
   "id": "cd88b9a6",
   "metadata": {},
   "outputs": [],
   "source": [
    "from src.config import PROJECT_PATH, DATA_PATH\n",
    "from src.feature_engineering import create_wave0_features\n",
    "TEST_DATA_FILE = 'test.csv'\n",
    "TEST_DEMOGRAPHICS_FILE = 'test_demographics.csv'"
   ]
  },
  {
   "cell_type": "code",
   "execution_count": 20,
   "id": "00a98a5e",
   "metadata": {},
   "outputs": [],
   "source": [
    "# --- Update these paths to where you save your final model and feature function ---\n",
    "MODEL_PATH = 'models_rev/wave1-catboost-best.cbm'\n",
    "FEATURE_FUNCTION_NAME = 'create_wave0_features' # Name of the final function"
   ]
  },
  {
   "cell_type": "code",
   "execution_count": 4,
   "id": "8dc9a3e7",
   "metadata": {},
   "outputs": [
    {
     "name": "stdout",
     "output_type": "stream",
     "text": [
      "Gesture Map: {'Cheek - pinch skin': 0, 'Forehead - pull hairline': 1, 'Write name on leg': 2, 'Feel around in tray and pull out an object': 3, 'Neck - scratch': 4, 'Neck - pinch skin': 5, 'Eyelash - pull hair': 6, 'Eyebrow - pull hair': 7, 'Forehead - scratch': 8, 'Above ear - pull hair': 9, 'Wave hello': 10, 'Write name in air': 11, 'Text on phone': 12, 'Pull air toward your face': 13, 'Pinch knee/leg skin': 14, 'Scratch knee/leg skin': 15, 'Drink from bottle/cup': 16, 'Glasses on/off': 17}\n",
      "\n",
      "Inverted Gesture Map: {0: 'Cheek - pinch skin', 1: 'Forehead - pull hairline', 2: 'Write name on leg', 3: 'Feel around in tray and pull out an object', 4: 'Neck - scratch', 5: 'Neck - pinch skin', 6: 'Eyelash - pull hair', 7: 'Eyebrow - pull hair', 8: 'Forehead - scratch', 9: 'Above ear - pull hair', 10: 'Wave hello', 11: 'Write name in air', 12: 'Text on phone', 13: 'Pull air toward your face', 14: 'Pinch knee/leg skin', 15: 'Scratch knee/leg skin', 16: 'Drink from bottle/cup', 17: 'Glasses on/off'}\n",
      "\n",
      "Gesture To Sequence Type: {'Cheek - pinch skin': 'Target', 'Forehead - pull hairline': 'Target', 'Write name on leg': 'Non-Target', 'Feel around in tray and pull out an object': 'Non-Target', 'Neck - scratch': 'Target', 'Neck - pinch skin': 'Target', 'Eyelash - pull hair': 'Target', 'Eyebrow - pull hair': 'Target', 'Forehead - scratch': 'Target', 'Above ear - pull hair': 'Target', 'Wave hello': 'Non-Target', 'Write name in air': 'Non-Target', 'Text on phone': 'Non-Target', 'Pull air toward your face': 'Non-Target', 'Pinch knee/leg skin': 'Non-Target', 'Scratch knee/leg skin': 'Non-Target', 'Drink from bottle/cup': 'Non-Target', 'Glasses on/off': 'Non-Target'}\n"
     ]
    }
   ],
   "source": [
    "#GLOBAL MAPS\n",
    "# Load training data\n",
    "df_train = pd.read_csv(os.path.join(DATA_PATH, 'train.csv'))\n",
    "df_train_demos = pd.read_csv(os.path.join(DATA_PATH, 'train_demographics.csv'))\n",
    "\n",
    "# --- Create Helper Mappings for Evaluation Metric ---\n",
    "# Important for the custom F1 score function\n",
    "metadata = df_train[['gesture', 'sequence_type']].drop_duplicates()\n",
    "\n",
    "# Map gesture string to sequence type (Target vs. Non-Target)\n",
    "gesture_to_seq_type_map = metadata.set_index('gesture')['sequence_type'].to_dict()\n",
    "\n",
    "# Map gesture string to integer code and back\n",
    "gesture_map = {label: i for i, label in enumerate(metadata['gesture'].unique())}\n",
    "inv_gesture_map = {i: label for label, i in gesture_map.items()}\n",
    "\n",
    "# Validate\n",
    "print(f\"Gesture Map: {gesture_map}\")\n",
    "print(f\"\\nInverted Gesture Map: {inv_gesture_map}\")\n",
    "print(f\"\\nGesture To Sequence Type: {gesture_to_seq_type_map}\")"
   ]
  },
  {
   "cell_type": "markdown",
   "id": "cf0550b6",
   "metadata": {},
   "source": [
    "## Load model and feature function"
   ]
  },
  {
   "cell_type": "code",
   "execution_count": 22,
   "id": "abb2ad6f",
   "metadata": {},
   "outputs": [],
   "source": [
    "model = cat.CatBoostClassifier()\n",
    "model.load_model(MODEL_PATH);"
   ]
  },
  {
   "cell_type": "code",
   "execution_count": 23,
   "id": "86ccbc07",
   "metadata": {},
   "outputs": [
    {
     "data": {
      "text/plain": [
       "<catboost.core.CatBoostClassifier at 0x773a5483b380>"
      ]
     },
     "execution_count": 23,
     "metadata": {},
     "output_type": "execute_result"
    }
   ],
   "source": [
    "model"
   ]
  },
  {
   "cell_type": "code",
   "execution_count": null,
   "id": "b591867b",
   "metadata": {},
   "outputs": [],
   "source": []
  }
 ],
 "metadata": {
  "kernelspec": {
   "display_name": "base",
   "language": "python",
   "name": "python3"
  },
  "language_info": {
   "codemirror_mode": {
    "name": "ipython",
    "version": 3
   },
   "file_extension": ".py",
   "mimetype": "text/x-python",
   "name": "python",
   "nbconvert_exporter": "python",
   "pygments_lexer": "ipython3",
   "version": "3.12.9"
  }
 },
 "nbformat": 4,
 "nbformat_minor": 5
}
