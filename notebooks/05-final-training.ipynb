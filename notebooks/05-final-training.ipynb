{
 "cells": [
  {
   "cell_type": "markdown",
   "id": "2f638c45",
   "metadata": {},
   "source": [
    "# Final Training and Model Export"
   ]
  },
  {
   "cell_type": "code",
   "execution_count": 1,
   "id": "9c94a3a3",
   "metadata": {},
   "outputs": [],
   "source": [
    "import pandas as pd\n",
    "import numpy as np\n",
    "import catboost as cat\n",
    "import pickle\n",
    "import os\n",
    "SEED = 42"
   ]
  },
  {
   "cell_type": "code",
   "execution_count": 2,
   "id": "3c73ab71",
   "metadata": {},
   "outputs": [],
   "source": [
    "def display_all(df):\n",
    "    with pd.option_context(\"display.max_rows\", 1000, \"display.max_columns\", 10000):\n",
    "        display(df)"
   ]
  },
  {
   "cell_type": "code",
   "execution_count": null,
   "id": "83bf9654",
   "metadata": {},
   "outputs": [],
   "source": [
    "# Initialize the experiment tracker\n",
    "tracker = ExperimentTracker(\n",
    "    project_path=PROJECT_PATH,\n",
    "    use_wandb=USE_WANDB,\n",
    "    wandb_project_name=WANDB_PROJECT,\n",
    "    wandb_entity=WANDB_ENTITY\n",
    ")"
   ]
  },
  {
   "cell_type": "code",
   "execution_count": null,
   "id": "48fa9cd7",
   "metadata": {},
   "outputs": [],
   "source": [
    "FINAL_FEATURES_PATH = 'processed_data/final_features.feather'\n",
    "FINAL_MODEL_SAVE_PATH = 'models/'\n",
    "\n",
    "# Replace with your best parameters from Optuna tuning\n",
    "BEST_PARAMS = {\n",
    "    'iterations': 1000,\n",
    "    'learning_rate': 0.08, # Example value\n",
    "    'depth': 6,           # Example value\n",
    "    'l2_leaf_reg': 3.0,   # Example value\n",
    "    # Add other best parameters found, excluding fit-specific ones like early_stopping_rounds\n",
    "    'loss_function': 'MultiClass',\n",
    "    'eval_metric': 'MultiClass',\n",
    "    'random_seed': 42,\n",
    "    'verbose': 100, # Show progress\n",
    "    # If you used GPU during tuning and want to use it here:\n",
    "    # 'task_type': \"GPU\",\n",
    "    # 'devices': '0',\n",
    "}"
   ]
  },
  {
   "cell_type": "code",
   "execution_count": null,
   "id": "2211448d",
   "metadata": {},
   "outputs": [],
   "source": [
    "features_df_final = pd.read_feather(FINAL_FEATURES_PATH)\n",
    "# features_df_final = pd.read_csv(FINAL_FEATURES_PATH)\n",
    "print(f\"Features loaded. Shape: {features_df_final.shape}\")"
   ]
  },
  {
   "cell_type": "code",
   "execution_count": null,
   "id": "984d69d8",
   "metadata": {},
   "outputs": [],
   "source": [
    "required_cols = ['sequence_id', 'subject', 'gesture', 'gesture_encoded']\n",
    "feature_columns = [col for col in features_df_final.columns if col not in required_cols]\n",
    "\n",
    "X_final = features_df_final[feature_columns]\n",
    "y_final = features_df_final['gesture_encoded']"
   ]
  },
  {
   "cell_type": "code",
   "execution_count": null,
   "id": "6166a7b0",
   "metadata": {},
   "outputs": [],
   "source": [
    "print(f\"Final training data prepared:\")\n",
    "print(f\" - X_final shape: {X_final.shape}\")\n",
    "print(f\" - y_final shape: {y_final.shape}\")\n",
    "print(f\" - Unique classes: {y_final.nunique()}\")"
   ]
  },
  {
   "cell_type": "code",
   "execution_count": null,
   "id": "ad36d39c",
   "metadata": {},
   "outputs": [],
   "source": [
    "final_model = cat.CatBoostClassifier(**BEST_PARAMS)"
   ]
  },
  {
   "cell_type": "code",
   "execution_count": null,
   "id": "d02730cd",
   "metadata": {},
   "outputs": [],
   "source": [
    "final_model.fit(X_final, y_final)"
   ]
  },
  {
   "cell_type": "code",
   "execution_count": null,
   "id": "85f750d7",
   "metadata": {},
   "outputs": [],
   "source": [
    "# --- Save the Trained Model ---\n",
    "print(f\"\\nSaving final model to: {FINAL_MODEL_SAVE_PATH}\")\n",
    "try:\n",
    "    # Save in CatBoost's native format for easy loading later\n",
    "    final_model.save_model(FINAL_MODEL_SAVE_PATH)\n",
    "    print(\"Final model saved successfully.\")\n",
    "except Exception as e:\n",
    "    print(f\"Error saving final model: {e}\")\n",
    "    raise\n",
    "\n",
    "# --- Optional: Save feature names for use in submission script ---\n",
    "# This ensures the submission script uses the exact same feature order.\n",
    "#feature_names_path = 'final_feature_names.pkl'\n",
    "#try:\n",
    "#    with open(feature_names_path, 'wb') as f:\n",
    "#        pickle.dump(feature_columns, f)\n",
    "#    print(f\"Feature names saved to: {feature_names_path}\")\n",
    "#except Exception as e:\n",
    "#    print(f\"Error saving feature names: {e}\")"
   ]
  }
 ],
 "metadata": {
  "kernelspec": {
   "display_name": "base",
   "language": "python",
   "name": "python3"
  },
  "language_info": {
   "codemirror_mode": {
    "name": "ipython",
    "version": 3
   },
   "file_extension": ".py",
   "mimetype": "text/x-python",
   "name": "python",
   "nbconvert_exporter": "python",
   "pygments_lexer": "ipython3",
   "version": "3.12.9"
  }
 },
 "nbformat": 4,
 "nbformat_minor": 5
}
