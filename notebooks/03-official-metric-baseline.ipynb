{
 "cells": [
  {
   "cell_type": "markdown",
   "id": "716d3429",
   "metadata": {},
   "source": [
    "# 03 - Iteration and Switch to Offical Metric"
   ]
  },
  {
   "cell_type": "code",
   "execution_count": 1,
   "id": "be1acf58",
   "metadata": {},
   "outputs": [],
   "source": [
    "#### TEMPORARY\n",
    "import sys\n",
    "sys.path.append('/home/bac/code/kaggle/kaggle-cmi-detect-behavior/')"
   ]
  },
  {
   "cell_type": "code",
   "execution_count": 18,
   "id": "c7e43b66",
   "metadata": {},
   "outputs": [],
   "source": [
    "#! conda install -c conda-forge umap-learn -y"
   ]
  },
  {
   "cell_type": "markdown",
   "id": "b475735a",
   "metadata": {},
   "source": [
    "## Setup and Load Data"
   ]
  },
  {
   "cell_type": "code",
   "execution_count": 2,
   "id": "e32ec87b",
   "metadata": {},
   "outputs": [],
   "source": [
    "import pandas as pd\n",
    "import numpy as np\n",
    "import os\n",
    "import catboost as cat\n",
    "from sklearn.model_selection import StratifiedGroupKFold\n",
    "from sklearn.metrics import f1_score\n",
    "from sklearn.decomposition import PCA\n",
    "from umap.umap_ import UMAP\n",
    "import warnings\n",
    "\n",
    "warnings.filterwarnings('ignore')\n",
    "pd.set_option('display.max_columns', None)\n",
    "\n",
    "# --- Pathing and Experiment Tracking Setup ---\n",
    "from src.tracking import ExperimentTracker\n",
    "from src.config import DATA_PATH, PROJECT_PATH, USE_WANDB, WANDB_PROJECT, WANDB_ENTITY\n",
    "\n",
    "tracker = ExperimentTracker(\n",
    "    project_path=os.path.expanduser(PROJECT_PATH),\n",
    "    use_wandb=USE_WANDB,\n",
    "    wandb_project_name=WANDB_PROJECT,\n",
    "    wandb_entity=WANDB_ENTITY\n",
    ")"
   ]
  },
  {
   "cell_type": "code",
   "execution_count": 3,
   "id": "375db061",
   "metadata": {},
   "outputs": [
    {
     "name": "stdout",
     "output_type": "stream",
     "text": [
      "Data loaded and merged.\n"
     ]
    }
   ],
   "source": [
    "# Load the raw data\n",
    "train_sensor = pd.read_csv(os.path.join(os.path.expanduser(DATA_PATH), 'train.csv'))\n",
    "train_demos = pd.read_csv(os.path.join(os.path.expanduser(DATA_PATH), 'train_demographics.csv'))\n",
    "\n",
    "# Merge with demographics\n",
    "train_df = pd.merge(train_sensor, train_demos, on='subject', how='left')\n",
    "print(\"Data loaded and merged.\")\n",
    "\n",
    "# --- Create Helper Mappings for Evaluation Metric ---\n",
    "# Important for the custom F1 score function\n",
    "metadata = train_df[['gesture', 'sequence_type']].drop_duplicates()\n",
    "\n",
    "# Map gesture string to sequence type (Target vs. Non-Target)\n",
    "gesture_to_seq_type_map = metadata.set_index('gesture')['sequence_type'].to_dict()\n",
    "\n",
    "# Map gesture string to integer code and back\n",
    "gesture_map = {label: i for i, label in enumerate(metadata['gesture'].unique())}\n",
    "inv_gesture_map = {i: label for label, i in gesture_map.items()}"
   ]
  },
  {
   "cell_type": "markdown",
   "id": "d7b2dc43",
   "metadata": {},
   "source": [
    "Create evaluation function..."
   ]
  },
  {
   "cell_type": "code",
   "execution_count": 4,
   "id": "ac19d664",
   "metadata": {},
   "outputs": [],
   "source": [
    "def average_f1_score(y_true_encoded, y_pred_proba):\n",
    "    \"\"\"\n",
    "    Calculates the official competition F1 score.\n",
    "    \n",
    "    Args:\n",
    "        y_true_encoded: True labels, integer encoded.\n",
    "        y_pred_proba: Predicted probabilities from the model.\n",
    "    \"\"\"\n",
    "    # Get predicted labels by finding the class with the highest probability\n",
    "    y_pred_encoded = np.argmax(y_pred_proba, axis=1)\n",
    "    \n",
    "    # Map integer-encoded labels back to the string representations\n",
    "    y_true_str = pd.Series(y_true_encoded).map(inv_gesture_map)\n",
    "    y_pred_str = pd.Series(y_pred_encoded).map(inv_gesture_map)\n",
    "    \n",
    "    # Binary F1\n",
    "    y_true_binary = y_true_str.map(gesture_to_seq_type_map)\n",
    "    y_pred_binary = y_true_str.map(gesture_to_seq_type_map)\n",
    "    binary_f1 = f1_score(y_true_binary, y_pred_binary, pos_label='Target', average='binary')\n",
    "    \n",
    "    # Macro F1 (collaped non-target class)\n",
    "    def collapse_non_target(gesture):\n",
    "        return 'non_target' if gesture_to_seq_type_map[gesture] == 'Non-Target' else gesture\n",
    "    \n",
    "    y_true_collapsed = y_true_str.apply(collapse_non_target)\n",
    "    y_pred_collapsed = y_pred_str.apply(collapse_non_target)\n",
    "    macro_f1 = f1_score(y_true_collapsed, y_pred_collapsed, average='macro')\n",
    "    \n",
    "    # Final score = average of the two components\n",
    "    return (binary_f1 + macro_f1) / 2"
   ]
  },
  {
   "cell_type": "markdown",
   "id": "a0e15697",
   "metadata": {},
   "source": [
    "## Recreate Wave 2 and Train Using Avg. F1-Score"
   ]
  },
  {
   "cell_type": "code",
   "execution_count": 4,
   "id": "1effbf82",
   "metadata": {},
   "outputs": [
    {
     "name": "stdout",
     "output_type": "stream",
     "text": [
      "Starting Wave 2 Feature Engineering...\n",
      "Feature engineering complete. Shape of features: (8151, 202)\n"
     ]
    }
   ],
   "source": [
    "def create_wave2_features(df):\n",
    "    \"\"\"\n",
    "    Creates Wave 2 features: Adds advanced IMU (magnitude, jerk) and\n",
    "    Thermopile (gradients) features before performing phase-specific aggregation.\n",
    "    \"\"\"\n",
    "    print(\"Starting Wave 2 Feature Engineering...\")\n",
    "    df_feat = df.copy()\n",
    "    df_feat['acc_mag'] = np.sqrt(df_feat['acc_x']**2 + df_feat['acc_y']**2 + df_feat['acc_z']**2)\n",
    "    df_feat['rot_mag'] = np.sqrt(df_feat['rot_w']**2 + df_feat['rot_x']**2 + df_feat['rot_y']**2 + df_feat['rot_z']**2)\n",
    "    df_feat['jerk'] = df_feat.groupby('sequence_id')['acc_mag'].diff().fillna(0)\n",
    "    for i in range(1, 5):\n",
    "        df_feat[f'thm_grad_{i}_{i+1}'] = df_feat[f'thm_{i}'] - df_feat[f'thm_{i+1}']\n",
    "    \n",
    "    imu_derived_cols = ['acc_mag', 'rot_mag', 'jerk']\n",
    "    thm_grad_cols = [f'thm_grad_{i}_{i+1}' for i in range(1, 5)]\n",
    "    original_sensor_cols = [c for c in df.columns if 'acc_' in c or 'rot_' in c or 'thm_' in c]\n",
    "    tof_cols = [f'tof_{s}_v{p}' for s in range(1, 6) for p in range(64)]\n",
    "\n",
    "    df_feat[tof_cols] = df_feat[tof_cols].replace(-1, np.nan)\n",
    "    df_feat['tof_mean_all_pixels'] = df_feat[tof_cols].mean(axis=1)\n",
    "\n",
    "    aggs = {}\n",
    "    for col in original_sensor_cols + imu_derived_cols + thm_grad_cols:\n",
    "        aggs[col] = ['mean', 'std', 'min', 'max', 'skew']\n",
    "    aggs['tof_mean_all_pixels'] = ['mean', 'std', 'min', 'max']\n",
    "\n",
    "    phase_agg_df = df_feat.groupby(['sequence_id', 'phase']).agg(aggs)\n",
    "    phase_agg_df.columns = ['_'.join(col).strip() for col in phase_agg_df.columns.values]\n",
    "    phase_agg_df_unstacked = phase_agg_df.unstack(level='phase')\n",
    "    phase_agg_df_unstacked.columns = ['_'.join(col).strip() for col in phase_agg_df_unstacked.columns.values]\n",
    "    \n",
    "    meta_df = df.groupby('sequence_id').first()\n",
    "    final_df = pd.concat([meta_df[['subject', 'gesture']], phase_agg_df_unstacked], axis=1).reset_index()\n",
    "    \n",
    "    # Use the globally defined gesture map for consistent encoding\n",
    "    final_df['gesture_encoded'] = final_df['gesture'].map(gesture_map)\n",
    "    \n",
    "    print(f\"Feature engineering complete. Shape of features: {final_df.shape}\")\n",
    "    return final_df\n",
    "\n",
    "\n",
    "\n",
    "features_df = create_wave2_features(train_df)"
   ]
  },
  {
   "cell_type": "code",
   "execution_count": 8,
   "id": "2a910ca1",
   "metadata": {},
   "outputs": [],
   "source": [
    "FEATURE_WAVE = \"Wave 2\"\n",
    "MODEL_NAME = \"CatBoost\"\n",
    "EXPERIMENT_NAME = f\"{FEATURE_WAVE}-{MODEL_NAME}-Official-Metric-Baseline\"\n",
    "N_SPLITS = 5\n",
    "SEED = 42\n",
    "\n",
    "# --- Model Parameters ---\n",
    "params = {\n",
    "    'iterations': 1000, 'learning_rate': 0.05, 'depth': 6,\n",
    "    'loss_function': 'MultiClass', 'eval_metric': 'MultiClass',\n",
    "    'random_seed': SEED, 'verbose': 0\n",
    "}\n",
    "\n",
    "# --- Prepare data for CV ---\n",
    "X = features_df.drop(columns=['sequence_id', 'subject', 'gesture', 'gesture_encoded'])\n",
    "y = features_df['gesture_encoded']\n",
    "groups = features_df['subject']"
   ]
  },
  {
   "cell_type": "code",
   "execution_count": 10,
   "id": "5b852073",
   "metadata": {},
   "outputs": [
    {
     "name": "stdout",
     "output_type": "stream",
     "text": [
      "--- Fold 1/5 ---\n",
      "Fold 1 Competition F1 Score: 0.83614\n",
      "--- Fold 2/5 ---\n",
      "Fold 2 Competition F1 Score: 0.78580\n",
      "--- Fold 3/5 ---\n",
      "Fold 3 Competition F1 Score: 0.79748\n",
      "--- Fold 4/5 ---\n",
      "Fold 4 Competition F1 Score: 0.78122\n",
      "--- Fold 5/5 ---\n",
      "Fold 5 Competition F1 Score: 0.78969\n",
      "\n",
      "--- CV Summary for CatBoost ---\n",
      "Mean Competition F1 Score: 0.79807\n",
      "Std Dev: 0.01977\n",
      "\n",
      "Experiment 'Wave 2-CatBoost-Official-Metric-Baseline' logged to /home/bac/code/kaggle/kaggle-cmi-detect-behavior/experiment_log.csv\n"
     ]
    },
    {
     "name": "stderr",
     "output_type": "stream",
     "text": [
      "\u001b[34m\u001b[1mwandb\u001b[0m: Currently logged in as: \u001b[33mb-a-chaudhry\u001b[0m (\u001b[33mb-a-chaudhry-\u001b[0m) to \u001b[32mhttps://api.wandb.ai\u001b[0m. Use \u001b[1m`wandb login --relogin`\u001b[0m to force relogin\n",
      "\u001b[34m\u001b[1mwandb\u001b[0m: \u001b[33mWARNING\u001b[0m Using a boolean value for 'reinit' is deprecated. Use 'return_previous' or 'finish_previous' instead.\n"
     ]
    },
    {
     "data": {
      "text/html": [],
      "text/plain": [
       "<IPython.core.display.HTML object>"
      ]
     },
     "metadata": {},
     "output_type": "display_data"
    },
    {
     "data": {
      "text/html": [
       "Tracking run with wandb version 0.21.0"
      ],
      "text/plain": [
       "<IPython.core.display.HTML object>"
      ]
     },
     "metadata": {},
     "output_type": "display_data"
    },
    {
     "data": {
      "text/html": [
       "Run data is saved locally in <code>/home/bac/code/kaggle/kaggle-cmi-detect-behavior/notebooks/wandb/run-20250704_172433-1m062doy</code>"
      ],
      "text/plain": [
       "<IPython.core.display.HTML object>"
      ]
     },
     "metadata": {},
     "output_type": "display_data"
    },
    {
     "data": {
      "text/html": [
       "Syncing run <strong><a href='https://wandb.ai/b-a-chaudhry-/kaggle-cmi-detect-behavior/runs/1m062doy' target=\"_blank\">Wave 2-CatBoost-Official-Metric-Baseline</a></strong> to <a href='https://wandb.ai/b-a-chaudhry-/kaggle-cmi-detect-behavior' target=\"_blank\">Weights & Biases</a> (<a href='https://wandb.me/developer-guide' target=\"_blank\">docs</a>)<br>"
      ],
      "text/plain": [
       "<IPython.core.display.HTML object>"
      ]
     },
     "metadata": {},
     "output_type": "display_data"
    },
    {
     "data": {
      "text/html": [
       " View project at <a href='https://wandb.ai/b-a-chaudhry-/kaggle-cmi-detect-behavior' target=\"_blank\">https://wandb.ai/b-a-chaudhry-/kaggle-cmi-detect-behavior</a>"
      ],
      "text/plain": [
       "<IPython.core.display.HTML object>"
      ]
     },
     "metadata": {},
     "output_type": "display_data"
    },
    {
     "data": {
      "text/html": [
       " View run at <a href='https://wandb.ai/b-a-chaudhry-/kaggle-cmi-detect-behavior/runs/1m062doy' target=\"_blank\">https://wandb.ai/b-a-chaudhry-/kaggle-cmi-detect-behavior/runs/1m062doy</a>"
      ],
      "text/plain": [
       "<IPython.core.display.HTML object>"
      ]
     },
     "metadata": {},
     "output_type": "display_data"
    },
    {
     "data": {
      "text/html": [],
      "text/plain": [
       "<IPython.core.display.HTML object>"
      ]
     },
     "metadata": {},
     "output_type": "display_data"
    },
    {
     "data": {
      "text/html": [
       "<br>    <style><br>        .wandb-row {<br>            display: flex;<br>            flex-direction: row;<br>            flex-wrap: wrap;<br>            justify-content: flex-start;<br>            width: 100%;<br>        }<br>        .wandb-col {<br>            display: flex;<br>            flex-direction: column;<br>            flex-basis: 100%;<br>            flex: 1;<br>            padding: 10px;<br>        }<br>    </style><br><div class=\"wandb-row\"><div class=\"wandb-col\"><h3>Run history:</h3><br/><table class=\"wandb\"><tr><td>cv_score</td><td>▁</td></tr></table><br/></div><div class=\"wandb-col\"><h3>Run summary:</h3><br/><table class=\"wandb\"><tr><td>cv_score</td><td>0.79807</td></tr><tr><td>feature_wave</td><td>Wave 2</td></tr><tr><td>model_name</td><td>CatBoost</td></tr></table><br/></div></div>"
      ],
      "text/plain": [
       "<IPython.core.display.HTML object>"
      ]
     },
     "metadata": {},
     "output_type": "display_data"
    },
    {
     "data": {
      "text/html": [
       " View run <strong style=\"color:#cdcd00\">Wave 2-CatBoost-Official-Metric-Baseline</strong> at: <a href='https://wandb.ai/b-a-chaudhry-/kaggle-cmi-detect-behavior/runs/1m062doy' target=\"_blank\">https://wandb.ai/b-a-chaudhry-/kaggle-cmi-detect-behavior/runs/1m062doy</a><br> View project at: <a href='https://wandb.ai/b-a-chaudhry-/kaggle-cmi-detect-behavior' target=\"_blank\">https://wandb.ai/b-a-chaudhry-/kaggle-cmi-detect-behavior</a><br>Synced 5 W&B file(s), 0 media file(s), 0 artifact file(s) and 0 other file(s)"
      ],
      "text/plain": [
       "<IPython.core.display.HTML object>"
      ]
     },
     "metadata": {},
     "output_type": "display_data"
    },
    {
     "data": {
      "text/html": [
       "Find logs at: <code>./wandb/run-20250704_172433-1m062doy/logs</code>"
      ],
      "text/plain": [
       "<IPython.core.display.HTML object>"
      ]
     },
     "metadata": {},
     "output_type": "display_data"
    },
    {
     "name": "stdout",
     "output_type": "stream",
     "text": [
      "Experiment 'Wave 2-CatBoost-Official-Metric-Baseline' logged to W&B\n"
     ]
    }
   ],
   "source": [
    "fold_scores = []\n",
    "cv = StratifiedGroupKFold(n_splits=N_SPLITS, shuffle=True, random_state=SEED)\n",
    "for fold, (train_idx, val_idx) in enumerate(cv.split(X, y, groups)):\n",
    "    print(f\"--- Fold {fold+1}/{N_SPLITS} ---\")\n",
    "    \n",
    "    X_train, y_train = X.iloc[train_idx], y.iloc[train_idx]\n",
    "    X_val, y_val = X.iloc[val_idx], y.iloc[val_idx]\n",
    "    \n",
    "    model = cat.CatBoostClassifier(**params)\n",
    "    model.fit(X_train, y_train, eval_set=[(X_val, y_val)], early_stopping_rounds=100)\n",
    "    \n",
    "    # Predict on validation set\n",
    "    val_preds_proba = model.predict_proba(X_val)\n",
    "    \n",
    "    # Evaluate fold performance using the official metric\n",
    "    fold_score = average_f1_score(y_val, val_preds_proba)\n",
    "    fold_scores.append(fold_score)\n",
    "    print(f\"Fold {fold+1} Competition F1 Score: {fold_score:.5f}\")\n",
    "\n",
    "# --- Final Score and Logging ---\n",
    "mean_cv_score = np.mean(fold_scores)\n",
    "print(f\"\\n--- CV Summary for {MODEL_NAME} ---\")\n",
    "print(f\"Mean Competition F1 Score: {mean_cv_score:.5f}\")\n",
    "print(f\"Std Dev: {np.std(fold_scores):.5f}\\n\")\n",
    "\n",
    "tracker.log_experiment(\n",
    "    experiment_name=EXPERIMENT_NAME, model_name=MODEL_NAME, feature_wave=FEATURE_WAVE,\n",
    "    cv_score=mean_cv_score, params=params,\n",
    "    notes=\"Re-evaluating Wave 2 baseline using the official competition F1 metric.\"\n",
    ")"
   ]
  },
  {
   "cell_type": "markdown",
   "id": "b4bb2e91",
   "metadata": {},
   "source": [
    "## Feature Engineering - Wave 3 - Advanced ToF + Dimensionality Reduction"
   ]
  },
  {
   "cell_type": "markdown",
   "id": "0c62e474",
   "metadata": {},
   "source": [
    "`NOTE` In order to determine the imapact of dimensionality reduction techniques on model performance, we will treaat PCA and UMAP training runs as two separate experiments to evaluate their impact."
   ]
  },
  {
   "cell_type": "markdown",
   "id": "ab7b6153",
   "metadata": {},
   "source": [
    "### **PCA + Wave 3**"
   ]
  },
  {
   "cell_type": "code",
   "execution_count": 9,
   "id": "a49761a9",
   "metadata": {},
   "outputs": [],
   "source": [
    "def create_wave3_pca_features(df):\n",
    "    \"\"\"\n",
    "    Creates Wave-3 features : Adds PCA components from ToF sensors to the Wave 2\n",
    "    feature set.\n",
    "    \"\"\"\n",
    "    df_feat = df.copy()\n",
    "    \n",
    "    # Base feature creation from wave 2\n",
    "    df_feat['acc_mag'] = np.sqrt(df_feat['acc_x']**2 + df_feat['acc_y']**2 + df_feat['acc_z']**2)\n",
    "    df_feat['rot_mag'] = np.sqrt(df_feat['rot_w']**2 + df_feat['rot_x']**2 + df_feat['rot_y']**2 + df_feat['rot_z']**2)\n",
    "    df_feat['jerk'] = df_feat.groupby('sequence_id')['acc_mag'].diff().fillna(0)\n",
    "    for i in range(1, 5):\n",
    "        df_feat[f'thm_grad_{i}_{i+1}'] = df_feat[f'thm_{i}'] - df_feat[f'thm_{i+1}']\n",
    "    \n",
    "    # Advanced ToF features\n",
    "    tof_cols = [f'tof_{s}_v{p}' for s in range(1, 6) for p in range(64)]\n",
    "    \n",
    "    # Replace -1 with NaN for 'invalid' stats\n",
    "    tof_data = df_feat[tof_cols].replace(-1, np.nan)\n",
    "    \n",
    "    # Percentage of invalid readings per row (feature)\n",
    "    df_feat['tof_invalid_pct'] = tof_data.isna().mean(axis=1)\n",
    "    \n",
    "    # PCA components (10)\n",
    "    pca = PCA(n_components=10, random_state=SEED)\n",
    "    # Fill remaining NaNs with 0 before PCA\n",
    "    tof_pca_features = pca.fit_transform(tof_data.fillna(0))\n",
    "    \n",
    "    # Add PCA features to the DF\n",
    "    for i in range(tof_pca_features.shape[1]):\n",
    "        df_feat[f'tof_pca_{i}'] = tof_pca_features[:, i]\n",
    "        \n",
    "    print(f\"Created {tof_pca_features.shape[1]} ToF PCA components.\")\n",
    "    \n",
    "    # Phase specific aggregations\n",
    "    base_cols_to_agg = [col for col in df.columns if 'acc_' in col or 'rot_' in col or 'thm_' in col]\n",
    "    derived_cols_to_add = ['acc_mag', 'rot_mag', 'jerk'] + [f'thm_grad_{i}_{i+1}' for i in range(1, 5)]\n",
    "    tof_derived_cols_to_agg = ['tof_invalid_pct'] + [f'tof_pca_{i}' for i in range(10)]\n",
    "    \n",
    "    aggs = {}\n",
    "    for col in base_cols_to_agg + derived_cols_to_add + tof_derived_cols_to_agg:\n",
    "        aggs[col] = ['mean', 'std', 'min', 'max']\n",
    "    \n",
    "    phase_agg_df = df_feat.groupby(['sequence_id', 'phase']).agg(aggs)\n",
    "    phase_agg_df.columns = ['_'.join(col).strip() for col in phase_agg_df.columns.values]\n",
    "    phase_agg_df_unstacked = phase_agg_df.unstack(level='phase')\n",
    "    phase_agg_df_unstacked.columns = ['_'.join(col).strip() for col in phase_agg_df_unstacked.columns.values]\n",
    "    \n",
    "    meta_df = df.groupby('sequence_id').first()\n",
    "    final_df = pd.concat([meta_df[['subject', 'gesture']], phase_agg_df_unstacked], axis=1).reset_index()\n",
    "    final_df['gesture_encoded'] = final_df['gesture'].map(gesture_map)\n",
    "    \n",
    "    print(f\"Feature engineering complete. Shape of features: {final_df.shape}\")\n",
    "    return final_df\n",
    "    "
   ]
  },
  {
   "cell_type": "code",
   "execution_count": 11,
   "id": "428edd5c",
   "metadata": {},
   "outputs": [
    {
     "name": "stdout",
     "output_type": "stream",
     "text": [
      "Created 10 ToF PCA components.\n",
      "Feature engineering complete. Shape of features: (8151, 244)\n"
     ]
    }
   ],
   "source": [
    "SEED = 42\n",
    "features_df  = create_wave3_pca_features(train_df)"
   ]
  },
  {
   "cell_type": "code",
   "execution_count": 12,
   "id": "91ad5ce7",
   "metadata": {},
   "outputs": [],
   "source": [
    "# Setup training run and prep data\n",
    "FEATURE_WAVE = \"Wave 3a (PCA)\"\n",
    "MODEL_NAME = \"Catboost\"\n",
    "EXPERIMENT_NAME = f\"{FEATURE_WAVE}-{MODEL_NAME}-CPU\"\n",
    "N_SPLITS = 5\n",
    "\n",
    "# --- Model Parameters ---\n",
    "params = {\n",
    "    'iterations': 1000, 'learning_rate': 0.05, 'depth': 6,\n",
    "    'loss_function': 'MultiClass', 'eval_metric': 'MultiClass',\n",
    "    'random_seed': SEED, 'verbose': 0\n",
    "}\n",
    "\n",
    "# --- Prepare data for CV ---\n",
    "X = features_df.drop(columns=['sequence_id', 'subject', 'gesture', 'gesture_encoded'])\n",
    "y = features_df['gesture_encoded']\n",
    "groups = features_df['subject']"
   ]
  },
  {
   "cell_type": "code",
   "execution_count": 14,
   "id": "2b9e4755",
   "metadata": {},
   "outputs": [
    {
     "name": "stdout",
     "output_type": "stream",
     "text": [
      "--- Fold 1/5 ---\n",
      "Fold 1 Competition F1 Score: 0.83466\n",
      "--- Fold 2/5 ---\n",
      "Fold 2 Competition F1 Score: 0.78716\n",
      "--- Fold 3/5 ---\n",
      "Fold 3 Competition F1 Score: 0.80084\n",
      "--- Fold 4/5 ---\n",
      "Fold 4 Competition F1 Score: 0.79071\n",
      "--- Fold 5/5 ---\n",
      "Fold 5 Competition F1 Score: 0.79366\n",
      "\n",
      "--- CV Summary for Catboost ---\n",
      "Mean Competition F1 Score: 0.80141\n",
      "Std Dev: 0.01723\n",
      "\n",
      "Experiment 'Wave 3a (PCA)-Catboost-CPU' logged to /home/bac/code/kaggle/kaggle-cmi-detect-behavior/experiment_log.csv\n"
     ]
    },
    {
     "name": "stderr",
     "output_type": "stream",
     "text": [
      "\u001b[34m\u001b[1mwandb\u001b[0m: W&B API key is configured. Use \u001b[1m`wandb login --relogin`\u001b[0m to force relogin\n",
      "\u001b[34m\u001b[1mwandb\u001b[0m: \u001b[33mWARNING\u001b[0m Using a boolean value for 'reinit' is deprecated. Use 'return_previous' or 'finish_previous' instead.\n"
     ]
    },
    {
     "data": {
      "text/html": [
       "creating run (0.5s)"
      ],
      "text/plain": [
       "<IPython.core.display.HTML object>"
      ]
     },
     "metadata": {},
     "output_type": "display_data"
    },
    {
     "data": {
      "text/html": [
       "Tracking run with wandb version 0.21.0"
      ],
      "text/plain": [
       "<IPython.core.display.HTML object>"
      ]
     },
     "metadata": {},
     "output_type": "display_data"
    },
    {
     "data": {
      "text/html": [
       "Run data is saved locally in <code>/home/bac/code/kaggle/kaggle-cmi-detect-behavior/notebooks/wandb/run-20250707_153707-3pxntwqc</code>"
      ],
      "text/plain": [
       "<IPython.core.display.HTML object>"
      ]
     },
     "metadata": {},
     "output_type": "display_data"
    },
    {
     "data": {
      "text/html": [
       "Syncing run <strong><a href='https://wandb.ai/b-a-chaudhry-/kaggle-cmi-detect-behavior/runs/3pxntwqc' target=\"_blank\">Wave 3a (PCA)-Catboost-CPU</a></strong> to <a href='https://wandb.ai/b-a-chaudhry-/kaggle-cmi-detect-behavior' target=\"_blank\">Weights & Biases</a> (<a href='https://wandb.me/developer-guide' target=\"_blank\">docs</a>)<br>"
      ],
      "text/plain": [
       "<IPython.core.display.HTML object>"
      ]
     },
     "metadata": {},
     "output_type": "display_data"
    },
    {
     "data": {
      "text/html": [
       " View project at <a href='https://wandb.ai/b-a-chaudhry-/kaggle-cmi-detect-behavior' target=\"_blank\">https://wandb.ai/b-a-chaudhry-/kaggle-cmi-detect-behavior</a>"
      ],
      "text/plain": [
       "<IPython.core.display.HTML object>"
      ]
     },
     "metadata": {},
     "output_type": "display_data"
    },
    {
     "data": {
      "text/html": [
       " View run at <a href='https://wandb.ai/b-a-chaudhry-/kaggle-cmi-detect-behavior/runs/3pxntwqc' target=\"_blank\">https://wandb.ai/b-a-chaudhry-/kaggle-cmi-detect-behavior/runs/3pxntwqc</a>"
      ],
      "text/plain": [
       "<IPython.core.display.HTML object>"
      ]
     },
     "metadata": {},
     "output_type": "display_data"
    },
    {
     "data": {
      "text/html": [],
      "text/plain": [
       "<IPython.core.display.HTML object>"
      ]
     },
     "metadata": {},
     "output_type": "display_data"
    },
    {
     "data": {
      "text/html": [
       "<br>    <style><br>        .wandb-row {<br>            display: flex;<br>            flex-direction: row;<br>            flex-wrap: wrap;<br>            justify-content: flex-start;<br>            width: 100%;<br>        }<br>        .wandb-col {<br>            display: flex;<br>            flex-direction: column;<br>            flex-basis: 100%;<br>            flex: 1;<br>            padding: 10px;<br>        }<br>    </style><br><div class=\"wandb-row\"><div class=\"wandb-col\"><h3>Run history:</h3><br/><table class=\"wandb\"><tr><td>cv_score</td><td>▁</td></tr></table><br/></div><div class=\"wandb-col\"><h3>Run summary:</h3><br/><table class=\"wandb\"><tr><td>cv_score</td><td>0.80141</td></tr><tr><td>feature_wave</td><td>Wave 3a (PCA)</td></tr><tr><td>model_name</td><td>Catboost</td></tr></table><br/></div></div>"
      ],
      "text/plain": [
       "<IPython.core.display.HTML object>"
      ]
     },
     "metadata": {},
     "output_type": "display_data"
    },
    {
     "data": {
      "text/html": [
       " View run <strong style=\"color:#cdcd00\">Wave 3a (PCA)-Catboost-CPU</strong> at: <a href='https://wandb.ai/b-a-chaudhry-/kaggle-cmi-detect-behavior/runs/3pxntwqc' target=\"_blank\">https://wandb.ai/b-a-chaudhry-/kaggle-cmi-detect-behavior/runs/3pxntwqc</a><br> View project at: <a href='https://wandb.ai/b-a-chaudhry-/kaggle-cmi-detect-behavior' target=\"_blank\">https://wandb.ai/b-a-chaudhry-/kaggle-cmi-detect-behavior</a><br>Synced 5 W&B file(s), 0 media file(s), 0 artifact file(s) and 0 other file(s)"
      ],
      "text/plain": [
       "<IPython.core.display.HTML object>"
      ]
     },
     "metadata": {},
     "output_type": "display_data"
    },
    {
     "data": {
      "text/html": [
       "Find logs at: <code>./wandb/run-20250707_153707-3pxntwqc/logs</code>"
      ],
      "text/plain": [
       "<IPython.core.display.HTML object>"
      ]
     },
     "metadata": {},
     "output_type": "display_data"
    },
    {
     "name": "stdout",
     "output_type": "stream",
     "text": [
      "Experiment 'Wave 3a (PCA)-Catboost-CPU' logged to W&B\n"
     ]
    }
   ],
   "source": [
    "# Train and evaluate.\n",
    "fold_scores = []\n",
    "cv = StratifiedGroupKFold(n_splits=N_SPLITS, shuffle=True, random_state=SEED)\n",
    "for fold, (train_idx, val_idx) in enumerate(cv.split(X, y, groups)):\n",
    "    print(f\"--- Fold {fold+1}/{N_SPLITS} ---\")\n",
    "    \n",
    "    X_train, y_train = X.iloc[train_idx], y.iloc[train_idx]\n",
    "    X_val, y_val = X.iloc[val_idx], y.iloc[val_idx]\n",
    "    \n",
    "    model = cat.CatBoostClassifier(**params)\n",
    "    model.fit(X_train, y_train, eval_set=[(X_val, y_val)], early_stopping_rounds=100)\n",
    "    \n",
    "    # Predict on validation set\n",
    "    val_preds_proba = model.predict_proba(X_val)\n",
    "    \n",
    "    # Evaluate fold performance using the official metric\n",
    "    fold_score = average_f1_score(y_val, val_preds_proba)\n",
    "    fold_scores.append(fold_score)\n",
    "    print(f\"Fold {fold+1} Competition F1 Score: {fold_score:.5f}\")\n",
    "\n",
    "# --- Final Score and Logging ---\n",
    "mean_cv_score = np.mean(fold_scores)\n",
    "print(f\"\\n--- CV Summary for {MODEL_NAME} ---\")\n",
    "print(f\"Mean Competition F1 Score: {mean_cv_score:.5f}\")\n",
    "print(f\"Std Dev: {np.std(fold_scores):.5f}\\n\")\n",
    "\n",
    "tracker.log_experiment(\n",
    "    experiment_name=EXPERIMENT_NAME, model_name=MODEL_NAME, feature_wave=FEATURE_WAVE,\n",
    "    cv_score=mean_cv_score, params=params,\n",
    "    notes=\"Evaluating Wave-3 baseline (Wave2 + ToF dimensionality) + competition metric + PCA (10 components) \"\n",
    ")"
   ]
  },
  {
   "cell_type": "markdown",
   "id": "81922289",
   "metadata": {},
   "source": [
    "### **UMAP + Wave 3**"
   ]
  },
  {
   "cell_type": "code",
   "execution_count": null,
   "id": "2557e12a",
   "metadata": {},
   "outputs": [],
   "source": [
    "def create_wave3_umap_features(df):\n",
    "    \"\"\"\n",
    "    Creates Wave-3 features: Adds UMAP components from ToF sensors to the Wave-2\n",
    "    feature set.\n",
    "    \"\"\"\n",
    "    df_feat = df.copy()\n",
    "    \n",
    "    # Base features from wave 2\n",
    "    df_feat['acc_mag'] = np.sqrt(df_feat['acc_x']**2 + df_feat['acc_y']**2 + df_feat['acc_z']**2)\n",
    "    df_feat['rot_mag'] = np.sqrt(df_feat['rot_w']**2 + df_feat['rot_x']**2 + df_feat['rot_y']**2 + df_feat['rot_z']**2)\n",
    "    df_feat['jerk'] = df_feat.groupby('sequence_id')['acc_mag'].diff().fillna(0)\n",
    "    for i in range(1, 5):\n",
    "        df_feat[f'thm_grad_{i}_{i+1}'] = df_feat[f'thm_{i}'] - df_feat[f'thm_{i+1}']\n",
    "        \n",
    "    # ToF feature creation using UMAP\n",
    "    tof_cols = [f'tof_{s}_v{p}' for s in range(1, 6) for p in range(64)]\n",
    "    tof_data = df_feat[tof_cols].replace(-1, np.nan)\n",
    "    \n",
    "    # Feature - percentage of invalid readings\n",
    "    df_feat['tof_invalid_pct'] = tof_data.isna().mean(axis=1)\n",
    "    \n",
    "    # UMAP components - using standard UMAP parameters with n=10 components to\n",
    "    # match PCA for a fair comparision\n",
    "    \n",
    "    reducer = UMAP(\n",
    "        n_components=10,\n",
    "        n_neighbors=15,\n",
    "        min_dist=0.1,\n",
    "        metric='euclidean',\n",
    "        random_state=SEED,\n",
    "    )\n",
    "    \n",
    "    # Fill remaining NaNs with 0 before applying UMAP\n",
    "    tof_umap_features = reducer.fit_transform(tof_data.fillna(0))\n",
    "    \n",
    "    for i in range(tof_umap_features.shape[1]):\n",
    "        df_feat[f'tof_umap_{i}'] = tof_umap_features[:, i]\n",
    "        \n",
    "    print(f\"Created {tof_umap_features.shape[1]} ToF UMAP components.\")\n",
    "\n",
    "    # Phase specific aggregation\n",
    "    base_cols_to_agg = [col for col in df.columns if 'acc_' in col or 'rot_' in col or 'thm_' in col]\n",
    "    derived_cols_to_agg = ['acc_mag', 'rot_mag', 'jerk'] + [f'thm_grad_{i}_{i+1}' for i in range(1, 5)]\n",
    "    tof_derived_cols_to_agg = ['tof_invalid_pct'] + [f'tof_umap_{i}' for i in range(10)]\n",
    "    \n",
    "    aggs = {}\n",
    "    for col in base_cols_to_agg + derived_cols_to_agg + tof_derived_cols_to_agg:\n",
    "        aggs[col] = ['mean', 'std', 'min', 'max']\n",
    "\n",
    "    phase_agg_df = df_feat.groupby(['sequence_id', 'phase']).agg(aggs)\n",
    "    phase_agg_df.columns = ['_'.join(col).strip() for col in phase_agg_df.columns.values]\n",
    "    phase_agg_df_unstacked = phase_agg_df.unstack(level='phase')\n",
    "    phase_agg_df_unstacked.columns = ['_'.join(col).strip() for col in phase_agg_df_unstacked.columns.values]\n",
    "    \n",
    "    meta_df = df.groupby('sequence_id').first()\n",
    "    final_df = pd.concat([meta_df[['subject', 'gesture']], phase_agg_df_unstacked], axis=1).reset_index()\n",
    "    final_df['gesture_encoded'] = final_df['gesture'].map(gesture_map)\n",
    "    \n",
    "    print(f\"Feature engineering complete. Shape of features: {final_df.shape}\")\n",
    "    return final_df\n"
   ]
  },
  {
   "cell_type": "code",
   "execution_count": 22,
   "id": "73f6ccb1",
   "metadata": {},
   "outputs": [
    {
     "name": "stdout",
     "output_type": "stream",
     "text": [
      "Created 10 ToF UMAP components.\n",
      "Feature engineering complete. Shape of features: (8151, 244)\n"
     ]
    }
   ],
   "source": [
    "# Create features\n",
    "features_df = create_wave3_umap_features(train_df)"
   ]
  },
  {
   "cell_type": "markdown",
   "id": "b4d9e162",
   "metadata": {},
   "source": [
    "Yikes! 20 mins to train using the CPU. The algorithm's brute-force methodology doesn't scale well at all. Let's see what impact it had on the model's CV performance."
   ]
  },
  {
   "cell_type": "code",
   "execution_count": 23,
   "id": "c9d9a89f",
   "metadata": {},
   "outputs": [],
   "source": [
    "# Setup training run and prep data\n",
    "FEATURE_WAVE = \"Wave 3b (UMAP)\"\n",
    "MODEL_NAME = \"Catboost\"\n",
    "EXPERIMENT_NAME = f\"{FEATURE_WAVE}-{MODEL_NAME}-CPU\"\n",
    "N_SPLITS = 5\n",
    "\n",
    "# --- Model Parameters ---\n",
    "params = {\n",
    "    'iterations': 1000, 'learning_rate': 0.05, 'depth': 6,\n",
    "    'loss_function': 'MultiClass', 'eval_metric': 'MultiClass',\n",
    "    'random_seed': SEED, 'verbose': 0\n",
    "}\n",
    "\n",
    "# --- Prepare data for CV ---\n",
    "X = features_df.drop(columns=['sequence_id', 'subject', 'gesture', 'gesture_encoded'])\n",
    "y = features_df['gesture_encoded']\n",
    "groups = features_df['subject']"
   ]
  },
  {
   "cell_type": "code",
   "execution_count": 24,
   "id": "69eb623f",
   "metadata": {},
   "outputs": [
    {
     "name": "stdout",
     "output_type": "stream",
     "text": [
      "--- Fold 1/5 ---\n",
      "Fold 1 Competition F1 Score: 0.84191\n",
      "--- Fold 2/5 ---\n",
      "Fold 2 Competition F1 Score: 0.77774\n",
      "--- Fold 3/5 ---\n",
      "Fold 3 Competition F1 Score: 0.80002\n",
      "--- Fold 4/5 ---\n",
      "Fold 4 Competition F1 Score: 0.78125\n",
      "--- Fold 5/5 ---\n"
     ]
    },
    {
     "name": "stderr",
     "output_type": "stream",
     "text": [
      "\u001b[34m\u001b[1mwandb\u001b[0m: Currently logged in as: \u001b[33mb-a-chaudhry\u001b[0m (\u001b[33mb-a-chaudhry-\u001b[0m) to \u001b[32mhttps://api.wandb.ai\u001b[0m. Use \u001b[1m`wandb login --relogin`\u001b[0m to force relogin\n"
     ]
    },
    {
     "name": "stdout",
     "output_type": "stream",
     "text": [
      "Fold 5 Competition F1 Score: 0.79240\n",
      "\n",
      "--- CV Summary for Catboost ---\n",
      "Mean Competition F1 Score: 0.79866\n",
      "Std Dev: 0.02303\n",
      "\n",
      "Experiment 'Wave 3b (UMAP)-Catboost-CPU' logged to /home/bac/code/kaggle/kaggle-cmi-detect-behavior/experiment_log.csv\n",
      "Failed to log to W&B: [Errno 32] Broken pipe\n"
     ]
    }
   ],
   "source": [
    "# Train and evaluate.\n",
    "fold_scores = []\n",
    "cv = StratifiedGroupKFold(n_splits=N_SPLITS, shuffle=True, random_state=SEED)\n",
    "for fold, (train_idx, val_idx) in enumerate(cv.split(X, y, groups)):\n",
    "    print(f\"--- Fold {fold+1}/{N_SPLITS} ---\")\n",
    "    \n",
    "    X_train, y_train = X.iloc[train_idx], y.iloc[train_idx]\n",
    "    X_val, y_val = X.iloc[val_idx], y.iloc[val_idx]\n",
    "    \n",
    "    model = cat.CatBoostClassifier(**params)\n",
    "    model.fit(X_train, y_train, eval_set=[(X_val, y_val)], early_stopping_rounds=100)\n",
    "    \n",
    "    # Predict on validation set\n",
    "    val_preds_proba = model.predict_proba(X_val)\n",
    "    \n",
    "    # Evaluate fold performance using the official metric\n",
    "    fold_score = average_f1_score(y_val, val_preds_proba)\n",
    "    fold_scores.append(fold_score)\n",
    "    print(f\"Fold {fold+1} Competition F1 Score: {fold_score:.5f}\")\n",
    "\n",
    "# --- Final Score and Logging ---\n",
    "mean_cv_score = np.mean(fold_scores)\n",
    "print(f\"\\n--- CV Summary for {MODEL_NAME} ---\")\n",
    "print(f\"Mean Competition F1 Score: {mean_cv_score:.5f}\")\n",
    "print(f\"Std Dev: {np.std(fold_scores):.5f}\\n\")\n",
    "\n",
    "tracker.log_experiment(\n",
    "    experiment_name=EXPERIMENT_NAME, model_name=MODEL_NAME, feature_wave=FEATURE_WAVE,\n",
    "    cv_score=mean_cv_score, params=params,\n",
    "    notes=\"Evaluating Wave-3b baseline (Wave2 + ToF dimensionality) + competition metric + UMAP (10 components) \"\n",
    ")"
   ]
  },
  {
   "cell_type": "markdown",
   "id": "fc3c4108",
   "metadata": {},
   "source": [
    "**PCA Outperforms UMAP**\n",
    "\n",
    "- Wave 3a (PCA) Score: 0.80141 (Std Dev: 0.01723)\n",
    "\n",
    "- Wave 3b (UMAP) Score: 0.79866 (Std Dev: 0.02303)\n",
    "\n",
    "- The model using PCA features achieved a slightly higher mean score and, importantly, had a lower standard deviation, indicating greater stability across the folds. While the difference in the mean score is small, the better stability gives us more confidence in the PCA-based features.\n",
    "\n",
    "- For this dataset, the linear transformations of PCA are more effective at creating useful features from the ToF sensor data than the non-linear manifold learning of UMAP. "
   ]
  },
  {
   "cell_type": "markdown",
   "id": "95e9a16e",
   "metadata": {},
   "source": [
    "## Feature Engineering - Wave 4 - Demographic Interaction Features"
   ]
  },
  {
   "cell_type": "code",
   "execution_count": null,
   "id": "f6cd1c69",
   "metadata": {},
   "outputs": [
    {
     "ename": "SyntaxError",
     "evalue": "expected '(' (3222645179.py, line 1)",
     "output_type": "error",
     "traceback": [
      "  \u001b[36mCell\u001b[39m\u001b[36m \u001b[39m\u001b[32mIn[5]\u001b[39m\u001b[32m, line 1\u001b[39m\n\u001b[31m    \u001b[39m\u001b[31mdef create_wave4_features:\u001b[39m\n                             ^\n\u001b[31mSyntaxError\u001b[39m\u001b[31m:\u001b[39m expected '('\n"
     ]
    }
   ],
   "source": [
    "def create_wave4_features(df):\n",
    "    \"\"\"\n",
    "    Creates Wave-4 features: Adds demographic features to Wave 3a-PCA\n",
    "    feature set.\n",
    "    \"\"\"\n",
    "    df_feat = df.copy()\n",
    "    "
   ]
  },
  {
   "cell_type": "code",
   "execution_count": null,
   "id": "0fae2eab",
   "metadata": {},
   "outputs": [],
   "source": []
  }
 ],
 "metadata": {
  "kernelspec": {
   "display_name": "base",
   "language": "python",
   "name": "python3"
  },
  "language_info": {
   "codemirror_mode": {
    "name": "ipython",
    "version": 3
   },
   "file_extension": ".py",
   "mimetype": "text/x-python",
   "name": "python",
   "nbconvert_exporter": "python",
   "pygments_lexer": "ipython3",
   "version": "3.12.9"
  }
 },
 "nbformat": 4,
 "nbformat_minor": 5
}
